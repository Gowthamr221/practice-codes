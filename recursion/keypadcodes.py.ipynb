{
 "cells": [
  {
   "cell_type": "code",
   "execution_count": 17,
   "id": "b15aad82",
   "metadata": {},
   "outputs": [],
   "source": [
    "def getString(d):\n",
    "    if d == 2:\n",
    "        return \"abc\"\n",
    "    if d == 3:\n",
    "        return \"def\"\n",
    "    if d == 4:\n",
    "        return \"ghi\"\n",
    "    return \" \""
   ]
  },
  {
   "cell_type": "code",
   "execution_count": 18,
   "id": "f0cbf0ef",
   "metadata": {},
   "outputs": [],
   "source": [
    "def keypad(n):\n",
    "    if n==0:\n",
    "        output = []\n",
    "        output.append(\"\")\n",
    "        return output\n",
    "    remainingPart = n//10\n",
    "    lastDigit = n % 10\n",
    "    \n",
    "    smallerOutput = keypad(remainingPart)\n",
    "    optionsForLastDigit = getString(lastDigit)\n",
    "    output = []\n",
    "    for s in smallerOutput:\n",
    "        for k in optionsForLastDigit:\n",
    "            option = s+k\n",
    "            output.append(option)\n",
    "    return output"
   ]
  },
  {
   "cell_type": "code",
   "execution_count": 19,
   "id": "cde7f23a",
   "metadata": {},
   "outputs": [
    {
     "name": "stdout",
     "output_type": "stream",
     "text": [
      "['agd', 'age', 'agf', 'ahd', 'ahe', 'ahf', 'aid', 'aie', 'aif', 'bgd', 'bge', 'bgf', 'bhd', 'bhe', 'bhf', 'bid', 'bie', 'bif', 'cgd', 'cge', 'cgf', 'chd', 'che', 'chf', 'cid', 'cie', 'cif']\n"
     ]
    }
   ],
   "source": [
    "print(keypad(243))"
   ]
  },
  {
   "cell_type": "code",
   "execution_count": null,
   "id": "181171ca",
   "metadata": {},
   "outputs": [],
   "source": []
  }
 ],
 "metadata": {
  "kernelspec": {
   "display_name": "Python 3 (ipykernel)",
   "language": "python",
   "name": "python3"
  },
  "language_info": {
   "codemirror_mode": {
    "name": "ipython",
    "version": 3
   },
   "file_extension": ".py",
   "mimetype": "text/x-python",
   "name": "python",
   "nbconvert_exporter": "python",
   "pygments_lexer": "ipython3",
   "version": "3.9.7"
  }
 },
 "nbformat": 4,
 "nbformat_minor": 5
}
